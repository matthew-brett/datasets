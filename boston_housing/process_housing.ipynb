{
 "cells": [
  {
   "cell_type": "markdown",
   "metadata": {},
   "source": [
    "# Processing the Boston housing dataset\n",
    "\n",
    "Background from <http://lib.stat.cmu.edu/datasets/boston>\n",
    "\n",
    "> The Boston house-price data of Harrison, D. and Rubinfeld, D.L. 'Hedonic\n",
    "> prices and the demand for clean air', J. Environ. Economics & Management,\n",
    "> vol.5, 81-102, 1978.   Used in Belsley, Kuh & Welsch, 'Regression\n",
    "> diagnostics ...', Wiley, 1980.   N.B. Various transformations are used in\n",
    "> the table on pages 244-261 of the latter."
   ]
  },
  {
   "cell_type": "code",
   "execution_count": null,
   "metadata": {},
   "outputs": [],
   "source": [
    "import os.path as op\n",
    "import numpy as np\n",
    "import pandas as pd"
   ]
  },
  {
   "cell_type": "markdown",
   "metadata": {},
   "source": [
    "The following data from\n",
    "<http://lib.stat.cmu.edu/datasets/boston_corrected.txt>.\n",
    "\n",
    "As noted in that file:\n",
    "\n",
    "> This file contains the Harrison and Rubinfeld (1978) data corrected for\n",
    "> a few minor errors and augmented with the latitude and longitude of the\n",
    "> observations."
   ]
  },
  {
   "cell_type": "code",
   "execution_count": null,
   "metadata": {},
   "outputs": [],
   "source": [
    "df = pd.read_csv(op.join('original/boston_corrected.txt'),\n",
    "                 sep='\\t',\n",
    "                 skiprows=8,\n",
    "                 encoding='latin1',\n",
    "                 index_col=0)\n",
    "df.head()"
   ]
  },
  {
   "cell_type": "markdown",
   "metadata": {},
   "source": [
    "There should be 506 rows."
   ]
  },
  {
   "cell_type": "code",
   "execution_count": null,
   "metadata": {},
   "outputs": [],
   "source": [
    "assert len(df) == 506"
   ]
  },
  {
   "cell_type": "markdown",
   "metadata": {},
   "source": [
    "There are no missing values:"
   ]
  },
  {
   "cell_type": "code",
   "execution_count": null,
   "metadata": {},
   "outputs": [],
   "source": [
    "assert len(df.dropna()) == len(df)"
   ]
  },
  {
   "cell_type": "markdown",
   "metadata": {},
   "source": [
    "Variable list from an earlier version of the datset at <http://lib.stat.cmu.edu/datasets/boston>:\n",
    "\n",
    "* `CRIM`: per capita crime rate by town\n",
    "* `ZN`: proportion of residential land zoned for lots over 25,000 sq.ft.\n",
    "* `INDUS`: proportion of non-retail business acres per town\n",
    "* `CHAS`: Charles River dummy variable (= 1 if tract bounds river; 0\n",
    "  otherwise)\n",
    "* `NOX`: nitric oxides concentration (parts per 10 million)\n",
    "* `RM`: average number of rooms per dwelling\n",
    "* `AGE`: proportion of owner-occupied units built prior to 1940\n",
    "* `DIS`: weighted distances to five Boston employment centres\n",
    "* `RAD`: index of accessibility to radial highways\n",
    "* `TAX`: full-value property-tax rate per \\$10,000\n",
    "* `PTRATIO`: pupil-teacher ratio by town\n",
    "* `B`: 1000(Bk - 0.63)^2 where Bk is the proportion of blacks [sic] by town\n",
    "* `LSTAT`: % lower status of the population\n",
    "* `MEDV`: Median value of owner-occupied homes in \\$1000's\n",
    "\n",
    "The corrected dataset has [its own paper](http://www.spatial-statistics.com/pace_manuscripts/jeem_ms_dir/pdf/fin_jeem.pdf).  It adds:\n",
    "\n",
    "* `TOWN`: Town name\n",
    "* `TOWN#`: Town number (appears to be arbitrary)\n",
    "* `TRACT`:  Census tract number.\n",
    "* `LON`: Longitude\n",
    "* `LAT`: Latitude\n",
    "* `CMEDV`: Median home value with some corrections (see paper)\n",
    "\n",
    "From <https://www.cs.toronto.edu/~delve/data/boston/bostonDetail.html>, referring the earlier version of the data:\n",
    "\n",
    "> Variable [MEDV] seems to be censored [thresholded] at 50.00 USD\n",
    "> (corresponding to a median > price of 50,000); Censoring is suggested by the\n",
    "> fact that the highest median price of exactly 50,000 is reported in 16\n",
    "> cases, while 15 cases have prices between 40,000 and 50,000 USD, with prices\n",
    "> rounded to the nearest hundred. Harrison and Rubinfeld do not mention any\n",
    "> censoring.\n",
    "\n",
    "Let us check whether this effect obtains in our version of the dataset:"
   ]
  },
  {
   "cell_type": "code",
   "execution_count": null,
   "metadata": {},
   "outputs": [],
   "source": [
    "df['MEDV'].value_counts()"
   ]
  },
  {
   "cell_type": "markdown",
   "metadata": {},
   "source": [
    "It does.\n",
    "\n",
    "The same thresholding appears in the corrected `CMEDV` version of this variable."
   ]
  },
  {
   "cell_type": "code",
   "execution_count": null,
   "metadata": {},
   "outputs": [],
   "source": [
    "df['CMEDV'].value_counts()"
   ]
  },
  {
   "cell_type": "markdown",
   "metadata": {},
   "source": [
    "Here we can detect the fixes to the median house prices in the corrected data set:"
   ]
  },
  {
   "cell_type": "code",
   "execution_count": null,
   "metadata": {},
   "outputs": [],
   "source": [
    "df[df['MEDV'] != df['CMEDV']]"
   ]
  },
  {
   "cell_type": "markdown",
   "metadata": {},
   "source": [
    "We do some renaming:"
   ]
  },
  {
   "cell_type": "code",
   "execution_count": null,
   "metadata": {
    "scrolled": true
   },
   "outputs": [],
   "source": [
    "renamed = df.rename(columns={\n",
    "    'TOWN': 'town',  # Town name\n",
    "    'TOWN#': 'town_no',  # Town number (appears to be arbitrary)\n",
    "    'TRACT': 'census_tract', # Census tract number.\n",
    "    'LON': 'longitude',\n",
    "    'LAT': 'latitude',\n",
    "    'CMEDV': 'median_home_value',  # Corrected estimated median value of\n",
    "                                   # owner-occupied homes in $1K\n",
    "    'CRIM': 'crime_rate',  # per capita crime rate by town\n",
    "    'ZN': 'zoned_25k_p',  # propn residential land zoned for lots over 25K ft2\n",
    "    'INDUS': 'indust_p',  # proportion of non-retail business acres per town\n",
    "    'CHAS': 'borders_charles',  # Charles River dummy variable\n",
    "    'NOX': 'NOx',  # nitric oxides concentration (parts per 10 million)\n",
    "    'RM': 'n_rooms_avg',  # average number of rooms per dwelling\n",
    "    'AGE': 'before_1940_p',  # propn of owner-occupied units built before 1940\n",
    "    'DIS': 'employ_dist',  # weighted distance to 5 Boston employment centres\n",
    "    'RAD': 'radial_access',  # index of accessibility to radial highways\n",
    "    'TAX': 'tax_rate',  # full-value property-tax rate per \\$10,000\n",
    "    'PTRATIO': 'pupil_teacher_ratio',  # pupil-teacher ratio by town\n",
    "    'B': 'black_index',  # 1000(Bk - 0.63)^2 : Bk is propn of Black residents.\n",
    "    'LSTAT': 'lower_stat_pct',  # % lower status of the population\n",
    "    'MEDV': 'omedian_home_value'  # Original estimate median value of\n",
    "                                  # owner-occupied homes in $1K\n",
    "})\n",
    "renamed.head()"
   ]
  },
  {
   "cell_type": "markdown",
   "metadata": {},
   "source": [
    "The uncorrected median home value is more confusing than helpful:"
   ]
  },
  {
   "cell_type": "code",
   "execution_count": null,
   "metadata": {},
   "outputs": [],
   "source": [
    "renamed = renamed.drop('omedian_home_value', axis='columns')\n",
    "renamed.head()"
   ]
  },
  {
   "cell_type": "markdown",
   "metadata": {},
   "source": [
    "Write out the processed file:"
   ]
  },
  {
   "cell_type": "code",
   "execution_count": null,
   "metadata": {},
   "outputs": [],
   "source": [
    "out_fname = op.join('processed', 'boston_corrected.csv')\n",
    "renamed.to_csv(out_fname, index=None)\n",
    "pd.read_csv(out_fname).head()"
   ]
  }
 ],
 "metadata": {
  "jupytext": {
   "notebook_metadata_filter": "all,-language_info",
   "split_at_heading": true
  },
  "kernelspec": {
   "display_name": "Python 3",
   "language": "python",
   "name": "python3"
  },
  "language_info": {
   "codemirror_mode": {
    "name": "ipython",
    "version": 3
   },
   "file_extension": ".py",
   "mimetype": "text/x-python",
   "name": "python",
   "nbconvert_exporter": "python",
   "pygments_lexer": "ipython3",
   "version": "3.8.6"
  }
 },
 "nbformat": 4,
 "nbformat_minor": 4
}
